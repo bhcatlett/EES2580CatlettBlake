{
  "cells": [
    {
      "cell_type": "markdown",
      "metadata": {},
      "source": [
        "# Python Lesson 4 Practice Assignment"
      ]
    },
    {
      "cell_type": "markdown",
      "metadata": {
        "id": "zN05IqpfJhj7"
      },
      "source": [
        "1. Create a list that contains the names of the days of the week. Using a `for` loop, print the days of the week.\n"
      ]
    },
    {
      "cell_type": "code",
      "execution_count": 1,
      "metadata": {},
      "outputs": [
        {
          "name": "stdout",
          "output_type": "stream",
          "text": [
            "sunday\n",
            "monday\n",
            "tuesday\n",
            "wednesday\n",
            "thursday\n",
            "friday\n",
            "saturday\n"
          ]
        }
      ],
      "source": [
        "days = ['sunday', 'monday', 'tuesday', 'wednesday', 'thursday', 'friday', 'saturday']\n",
        "for day in days:\n",
        "    print(day)"
      ]
    },
    {
      "cell_type": "markdown",
      "metadata": {},
      "source": [
        "2. Using a `for` loop and the `.iterrows` method, print the month abbreviation and average temperature in Mesa for each month in 1879 together on the same line. (Remember that the month abbreviation is now the index for the row.) To make the output clearer, print a header explaining what the columns are before you print the values."
      ]
    },
    {
      "cell_type": "code",
      "execution_count": 28,
      "metadata": {},
      "outputs": [
        {
          "name": "stdout",
          "output_type": "stream",
          "text": [
            "Jan 12.1\n",
            "Feb 10.1\n",
            "Mar 11.8\n",
            "Apr 19.2\n",
            "May 25.0\n",
            "Jun 28.1\n",
            "Jul 32.4\n",
            "Aug 32.2\n",
            "Sep 28.2\n",
            "Oct 19.5\n",
            "Nov 14.5\n",
            "Dec 8.7\n"
          ]
        }
      ],
      "source": [
        "import pandas as pd\n",
        "climate = pd.read_csv('https://github.com/HeardLibrary/digital-scholarship/raw/master/data/codegraf/mesa_climate.csv')\n",
        "climate = climate.set_index('month')\n",
        "climate_df = pd.DataFrame(climate)\n",
        "climate_df\n",
        "\n",
        "for index, tavg in climate_df.iterrows():\n",
        "     print(index, tavg['tavg'])"
      ]
    },
    {
      "cell_type": "markdown",
      "metadata": {},
      "source": [
        "3. **Calculating a mean using the procedural approach.** Create a variable called `sum` and set its value to zero. Create a `for` loop that steps through each month and adds the precipitation value for each month to the `sum` variable. Recall that\n",
        "\n",
        "```\n",
        "sum += number\n",
        "```\n",
        "\n",
        "is a shortcut for\n",
        "\n",
        "```\n",
        "sum = sum + number\n",
        "```\n",
        "\n",
        "After you add up all of the values, print the value of the average precipitation for all months of the year. (Don't worry about weighting the monthly values by the length of the month.)"
      ]
    },
    {
      "cell_type": "code",
      "execution_count": 29,
      "metadata": {},
      "outputs": [
        {
          "name": "stdout",
          "output_type": "stream",
          "text": [
            "Annual recipitation: 228.5\n",
            "Average precipitation per month: 19.041666666666668\n"
          ]
        }
      ],
      "source": [
        "sum = 0\n",
        "\n",
        "for month in climate.index:\n",
        "    sum += float(climate.loc[month, 'ppt'])\n",
        "\n",
        "print('Annual recipitation:', sum)\n",
        "print('Average precipitation per month:', sum/12)"
      ]
    },
    {
      "cell_type": "markdown",
      "metadata": {},
      "source": [
        "4. **Calculating a mean using the vectorized approach.** Because pandas is designed for vectorized operations, there is an easier way to find the average precipitation for all of the months. Simply append the `.mean()` method to the precipitation column of the DataFrame. (The mean method does not require any arguments.) Print the result. Is it the same as what you got using the `for` loop?"
      ]
    },
    {
      "cell_type": "code",
      "execution_count": 30,
      "metadata": {},
      "outputs": [
        {
          "data": {
            "text/plain": [
              "19.041666666666664"
            ]
          },
          "execution_count": 30,
          "metadata": {},
          "output_type": "execute_result"
        }
      ],
      "source": [
        "climate['ppt'].mean()\n"
      ]
    },
    {
      "cell_type": "markdown",
      "metadata": {
        "id": "BNdYqS4jmKae"
      },
      "source": [
        "5. Yale University has an awesome website known as \"Is it chicken tenders day?\".  The website is at <http://www.isitchickentendersday.com/> and you can read about it [here](https://yaledailynews.com/blog/2011/09/08/is-it-chicken-tenders-day-question-answered-in-new-website/).  Using the website, you can determine whether it is chicken tenders day (i.e. Thursday) in the Yale residential dining halls. The `date` object from the `datetime` module has a *method* that determines the day of the week as a number (0=Monday, 1=Tuesday, etc.).  It's `date.today().weekday()`. From the `datetime` module import the `date` object. Begin your script by printing the question \"Is it chicken tenders day?\". Then use `if` and `else` to print `yes` if it's chicken tenders day and`no` for any other day."
      ]
    },
    {
      "cell_type": "code",
      "execution_count": 31,
      "metadata": {
        "id": "2DkVQ9qyl7MM"
      },
      "outputs": [
        {
          "name": "stdout",
          "output_type": "stream",
          "text": [
            "Is it Chicken Tenders Day????\n",
            "No\n"
          ]
        }
      ],
      "source": [
        "print('Is it Chicken Tenders Day????')\n",
        "\n",
        "import datetime as dt\n",
        "\n",
        "if dt.datetime.today().weekday() == 3:\n",
        "    print('Yes')\n",
        "else:\n",
        "    print('No')"
      ]
    },
    {
      "cell_type": "markdown",
      "metadata": {
        "id": "Vp8JnbYGmPqK"
      },
      "source": [
        "6. Create a list containing the names of the days of the week. Start with Monday and end with Sunday to match the numbering produced by the `.weekday()` method. Modify the program above by adding a line to tell the user what the day of the week is today. You can use the output of the `.weekday()` method as the index number when referring to your list."
      ]
    },
    {
      "cell_type": "code",
      "execution_count": 32,
      "metadata": {
        "id": "aXrJZenqmXBz"
      },
      "outputs": [
        {
          "name": "stdout",
          "output_type": "stream",
          "text": [
            "Today is Friday\n",
            "Is it Chicken Tenders Day????\n",
            "No\n"
          ]
        }
      ],
      "source": [
        "days_ = ['Monday', 'Tuesday', 'Wednesday', 'Thursday', 'Friday', 'Saturday', 'Sunday']\n",
        "\n",
        "print('Today is', days_[dt.datetime.today().weekday()])\n",
        "\n",
        "print('Is it Chicken Tenders Day????')\n",
        "\n",
        "if dt.datetime.today().weekday() == 3:\n",
        "    print('Yes')\n",
        "else:\n",
        "    print('No')"
      ]
    },
    {
      "cell_type": "markdown",
      "metadata": {
        "id": "Iom1IJr-RiC7"
      },
      "source": [
        "7. Use an input statement to let the user enter a number as a string. In a `try:` code block, convert the entered string to a floating point number using `float()`. Follow the conversion statement with a statement that prints the number. In the `except:` code block, print a warning to the user that they didn't enter a number."
      ]
    },
    {
      "cell_type": "code",
      "execution_count": 33,
      "metadata": {
        "id": "14lqPE_ARmeA"
      },
      "outputs": [
        {
          "name": "stdout",
          "output_type": "stream",
          "text": [
            "You entered 2834.0\n"
          ]
        }
      ],
      "source": [
        "user_number = (input('Enter a number: '))\n",
        "try:\n",
        "    user_number = float(user_number)\n",
        "    print('You entered', user_number)\n",
        "except:\n",
        "    print('You did not enter a number! Idiot!')"
      ]
    },
    {
      "cell_type": "markdown",
      "metadata": {
        "id": "_h3P-_z9X3MF"
      },
      "source": [
        "8. Create a Pyplot scatterplot with average precipitation on the X axis and average temperature on the Y axis. Lable the axes appropriately, including the units (mm for precipitation and degrees C for temperature)."
      ]
    },
    {
      "cell_type": "code",
      "execution_count": 34,
      "metadata": {
        "id": "pe8ZdDx4Yiye"
      },
      "outputs": [
        {
          "data": {
            "text/plain": [
              "Text(0, 0.5, 'Precipitation in mm')"
            ]
          },
          "execution_count": 34,
          "metadata": {},
          "output_type": "execute_result"
        },
        {
          "data": {
            "image/png": "[encoded data removed]",
            "text/plain": [
              "<Figure size 640x480 with 1 Axes>"
            ]
          },
          "metadata": {},
          "output_type": "display_data"
        }
      ],
      "source": [
        "import pandas as pd\n",
        "import numpy as np\n",
        "import matplotlib.pyplot as plt\n",
        "climate = pd.read_csv('https://github.com/HeardLibrary/digital-scholarship/raw/master/data/codegraf/mesa_climate.csv')\n",
        "climate = climate.set_index('month')\n",
        "figure = plt.figure()\n",
        "ax = figure.add_subplot(1, 1, 1)\n",
        "ax.scatter(climate['tavg'], climate['ppt'])\n",
        "ax.set_xlabel('Average Temperature in Cº')\n",
        "ax.set_ylabel('Precipitation in mm')"
      ]
    },
    {
      "cell_type": "markdown",
      "metadata": {
        "id": "Y7HHoASGYkCF"
      },
      "source": [
        "9. Create another scatterplot using the same variables as above, but add a first order polynomial best fit line (trendline) to the graph. Make the scatterplot markers and trendline different colors and make sure your axes are labeled."
      ]
    },
    {
      "cell_type": "code",
      "execution_count": 35,
      "metadata": {
        "id": "fOD7qMcEY8Nk"
      },
      "outputs": [
        {
          "data": {
            "text/plain": [
              "[<matplotlib.lines.Line2D at 0x127594dd0>]"
            ]
          },
          "execution_count": 35,
          "metadata": {},
          "output_type": "execute_result"
        },
        {
          "data": {
            "image/png": "[encoded data removed]",
            "text/plain": [
              "<Figure size 640x480 with 1 Axes>"
            ]
          },
          "metadata": {},
          "output_type": "display_data"
        }
      ],
      "source": [
        "figure_ = plt.figure()\n",
        "ax = figure_.add_subplot(1, 1, 1)\n",
        "ax.scatter(climate['tavg'], climate['ppt'])\n",
        "ax.set_xlabel('Average Temperature in Cº')\n",
        "ax.set_ylabel('Precipitation in mm')\n",
        "\n",
        "z = np.polyfit(climate['tavg'], climate['ppt'], 1)\n",
        "p = np.poly1d(z)\n",
        "ax.plot(climate['tavg'], p(climate['tavg']), 'r--')"
      ]
    },
    {
      "cell_type": "markdown",
      "metadata": {
        "id": "NW4_StRDY87i"
      },
      "source": [
        "10. Create a bar chart with the month abbreviation on the X axis and the average precipitation on the Y axis. Label your axes appropriately."
      ]
    },
    {
      "cell_type": "code",
      "execution_count": 36,
      "metadata": {
        "id": "z1559bdhZKux"
      },
      "outputs": [
        {
          "data": {
            "text/plain": [
              "Text(0, 0.5, 'Precipitation')"
            ]
          },
          "execution_count": 36,
          "metadata": {},
          "output_type": "execute_result"
        },
        {
          "data": {
            "image/png": "[encoded data removed]",
            "text/plain": [
              "<Figure size 640x480 with 1 Axes>"
            ]
          },
          "metadata": {},
          "output_type": "display_data"
        }
      ],
      "source": [
        "figure = plt.figure()\n",
        "ax = figure.add_subplot(1, 1, 1)\n",
        "ax.bar(climate.index, climate['ppt'])\n",
        "ax.set_xlabel('Month')\n",
        "ax.set_ylabel('Precipitation')"
      ]
    }
  ],
  "metadata": {
    "colab": {
      "provenance": []
    },
    "kernelspec": {
      "display_name": "Python 3",
      "name": "python3"
    },
    "language_info": {
      "codemirror_mode": {
        "name": "ipython",
        "version": 3
      },
      "file_extension": ".py",
      "mimetype": "text/x-python",
      "name": "python",
      "nbconvert_exporter": "python",
      "pygments_lexer": "ipython3",
      "version": "3.12.2"
    }
  },
  "nbformat": 4,
  "nbformat_minor": 0
}
