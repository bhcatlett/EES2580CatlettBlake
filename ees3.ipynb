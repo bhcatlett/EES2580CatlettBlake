{
  "cells": [
    {
      "cell_type": "markdown",
      "metadata": {
        "id": "bV8-xYpmI_vf"
      },
      "source": [
        "# Dictionaries\n",
        "\n",
        "## Instantiating a dictionary\n",
        "\n",
        "Examples"
      ]
    },
    {
      "cell_type": "code",
      "execution_count": 1,
      "metadata": {
        "id": "h9fUAda2I_vf"
      },
      "outputs": [
        {
          "name": "stdout",
          "output_type": "stream",
          "text": [
            "flange\n",
            "Mickey Mouse\n"
          ]
        }
      ],
      "source": [
        "catalog = {'1008':'widget', '2149':'flange', '19x5':'smoke shifter', '992':'poiuyt'}\n",
        "profile = {'name':'Mickey Mouse', 'company':'Disney', 'animated':True, 'fingers':8}\n",
        "\n",
        "print(catalog['2149'])\n",
        "print(profile['name'])"
      ]
    },
    {
      "cell_type": "code",
      "execution_count": 3,
      "metadata": {
        "id": "liDR9n3ZI_vh"
      },
      "outputs": [
        {
          "name": "stdout",
          "output_type": "stream",
          "text": [
            "True\n",
            "The character's company is Disney\n"
          ]
        }
      ],
      "source": [
        "# The key can be a string variable rather than a literal\n",
        "characteristic = 'animated'\n",
        "print(profile[characteristic])\n",
        "\n",
        "trait = input('What do you want to know about the character? ')\n",
        "print(\"The character's\", trait, 'is', profile[trait])"
      ]
    },
    {
      "cell_type": "markdown",
      "metadata": {
        "id": "eaQ8-j_GI_vl"
      },
      "source": [
        "## Editing a dictionary"
      ]
    },
    {
      "cell_type": "code",
      "execution_count": 5,
      "metadata": {
        "id": "n9gi3JLhI_vl"
      },
      "outputs": [
        {
          "name": "stdout",
          "output_type": "stream",
          "text": [
            "{'name': 'Fred Flintstone'}\n",
            "{'name': 'Fred Flintstone', 'company': 'Hannah-Barbara'}\n",
            "{'name': 'Fred Flintstone', 'company': 'Hannah-Barbara', 'fingers': 8}\n"
          ]
        }
      ],
      "source": [
        "my_dict = {}\n",
        "my_dict['name'] = input('What is the character name? ')\n",
        "print(my_dict)\n",
        "my_dict['company'] = input('Who does the character work for? ')\n",
        "print(my_dict)\n",
        "my_dict['fingers'] = int(input('How many fingers does the character have? '))\n",
        "print(my_dict)"
      ]
    },
    {
      "cell_type": "code",
      "execution_count": 6,
      "metadata": {
        "id": "xOIHe_5xI_vo"
      },
      "outputs": [
        {
          "name": "stdout",
          "output_type": "stream",
          "text": [
            "{'1008': 'widget', '2149': 'flange', '19x5': 'smoke shifter', '992': 'poiuyt'}\n",
            "{'1008': 'widget', '2149': 'thingamajig', '19x5': 'smoke shifter', '992': 'poiuyt'}\n",
            "{'2149': 'thingamajig', '19x5': 'smoke shifter', '992': 'poiuyt'}\n"
          ]
        }
      ],
      "source": [
        "print(catalog)\n",
        "\n",
        "catalog['2149'] = 'thingamajig'\n",
        "print(catalog)\n",
        "\n",
        "del catalog['1008']\n",
        "print(catalog)"
      ]
    },
    {
      "cell_type": "markdown",
      "metadata": {},
      "source": [
        "## Practice\n",
        "\n",
        "The starter code has some data retrieved from the Twitter API for a tweet. Print the text of the tweet, then change the vanlue of the `lang` key to Spanish (language code `es`) and print the dictionary."
      ]
    },
    {
      "cell_type": "code",
      "execution_count": 7,
      "metadata": {},
      "outputs": [
        {
          "name": "stdout",
          "output_type": "stream",
          "text": [
            "RT @wnprwheelhouse: @wnprharriet кричать @wnpr !\n",
            "{'created_at': 'Wed Sep 18 14:08:54 +0000 2019', 'text': 'RT @wnprwheelhouse: @wnprharriet кричать @wnpr !', 'lang': 'es'}\n"
          ]
        }
      ],
      "source": [
        "tweet = {'created_at':'Wed Sep 18 14:08:54 +0000 2019', 'text':'RT @wnprwheelhouse: @wnprharriet кричать @wnpr !','lang':'ru'}\n",
        "\n",
        "print(tweet['text'])\n",
        "\n",
        "tweet['lang'] = 'es'\n",
        "\n",
        "print(tweet)"
      ]
    },
    {
      "cell_type": "markdown",
      "metadata": {
        "id": "5ze3Fflgc-m_"
      },
      "source": [
        "# Complex data structures\n",
        "\n",
        "## Lists of lists\n"
      ]
    },
    {
      "cell_type": "code",
      "execution_count": 8,
      "metadata": {
        "id": "qxD_PuuZc-nA"
      },
      "outputs": [
        {
          "name": "stdout",
          "output_type": "stream",
          "text": [
            "[[3, 5, 7, 9], [4, 11, -1, 5], [-99, 0, 45, 0]]\n"
          ]
        }
      ],
      "source": [
        "first_row = [3, 5, 7, 9]\n",
        "second_row = [4, 11, -1, 5]\n",
        "third_row = [-99, 0, 45, 0]\n",
        "data = [first_row, second_row, third_row]\n",
        "print(data)"
      ]
    },
    {
      "cell_type": "code",
      "execution_count": 9,
      "metadata": {
        "id": "sXmJv0Uvc-nF"
      },
      "outputs": [
        {
          "name": "stdout",
          "output_type": "stream",
          "text": [
            "3\n"
          ]
        }
      ],
      "source": [
        "print(len(data))"
      ]
    },
    {
      "cell_type": "code",
      "execution_count": 10,
      "metadata": {
        "id": "p2wGcKDtc-nH"
      },
      "outputs": [
        {
          "name": "stdout",
          "output_type": "stream",
          "text": [
            "[4, 11, -1, 5]\n",
            "4\n"
          ]
        }
      ],
      "source": [
        "print(data[1])\n",
        "print(len(data[1]))"
      ]
    },
    {
      "cell_type": "code",
      "execution_count": 11,
      "metadata": {
        "id": "_9IaLfrdc-nK"
      },
      "outputs": [
        {
          "name": "stdout",
          "output_type": "stream",
          "text": [
            "-99\n"
          ]
        }
      ],
      "source": [
        "data = [[3, 5, 7, 9], [4, 11, -1, 5], [-99, 0, 45, 0]]\n",
        "print(data[2][0])"
      ]
    },
    {
      "cell_type": "markdown",
      "metadata": {
        "id": "ir88yn5Ac-nd"
      },
      "source": [
        "## Lists of dictionaries"
      ]
    },
    {
      "cell_type": "code",
      "execution_count": 12,
      "metadata": {
        "id": "w5hcJQo2c-ne"
      },
      "outputs": [
        {
          "name": "stdout",
          "output_type": "stream",
          "text": [
            "Disney\n",
            "Mickey Mouse\n",
            "neutral\n"
          ]
        }
      ],
      "source": [
        "characters = [{'name':'Mickey Mouse', 'company':'Disney', 'gender': 'male'}, {'name':'Daisy Duck', 'company':'Disney', 'gender': 'female'}, {'name':'Daffy Duck', 'company':'Warner Brothers', 'gender': 'male'},  {'name':'Fred Flintstone', 'company':'Hanna Barbera', 'gender': 'male'}, {'name':'WALL-E', 'company':'Pixar', 'gender': 'neutral'}, {'name':'Fiona', 'company':'DreamWorks', 'gender': 'female'}]\n",
        "print(characters[1]['company'])\n",
        "print(characters[0]['name'])\n",
        "print(characters[4]['gender'])"
      ]
    },
    {
      "cell_type": "markdown",
      "metadata": {},
      "source": [
        "# Pandas\n",
        "\n",
        "Standard import statement for pandas"
      ]
    },
    {
      "cell_type": "code",
      "execution_count": 17,
      "metadata": {},
      "outputs": [
        {
          "name": "stdout",
          "output_type": "stream",
          "text": [
            "Collecting pandas\n",
            "  Downloading pandas-2.2.1-cp312-cp312-macosx_11_0_arm64.whl.metadata (19 kB)\n",
            "Requirement already satisfied: numpy<2,>=1.26.0 in /Library/Frameworks/Python.framework/Versions/3.12/lib/python3.12/site-packages (from pandas) (1.26.4)\n",
            "Requirement already satisfied: python-dateutil>=2.8.2 in /Library/Frameworks/Python.framework/Versions/3.12/lib/python3.12/site-packages (from pandas) (2.8.2)\n",
            "Collecting pytz>=2020.1 (from pandas)\n",
            "  Downloading pytz-2024.1-py2.py3-none-any.whl.metadata (22 kB)\n",
            "Collecting tzdata>=2022.7 (from pandas)\n",
            "  Downloading tzdata-2024.1-py2.py3-none-any.whl.metadata (1.4 kB)\n",
            "Requirement already satisfied: six>=1.5 in /Library/Frameworks/Python.framework/Versions/3.12/lib/python3.12/site-packages (from python-dateutil>=2.8.2->pandas) (1.16.0)\n",
            "Downloading pandas-2.2.1-cp312-cp312-macosx_11_0_arm64.whl (11.3 MB)\n",
            "\u001b[2K   \u001b[90m━━━━━━━━━━━━━━━━━━━━━━━━━━━━━━━━━━━━━━━━\u001b[0m \u001b[32m11.3/11.3 MB\u001b[0m \u001b[31m4.4 MB/s\u001b[0m eta \u001b[36m0:00:00\u001b[0m00:01\u001b[0m00:01\u001b[0m\n",
            "\u001b[?25hDownloading pytz-2024.1-py2.py3-none-any.whl (505 kB)\n",
            "\u001b[2K   \u001b[90m━━━━━━━━━━━━━━━━━━━━━━━━━━━━━━━━━━━━━━━━\u001b[0m \u001b[32m505.5/505.5 kB\u001b[0m \u001b[31m3.0 MB/s\u001b[0m eta \u001b[36m0:00:00\u001b[0ma \u001b[36m0:00:01\u001b[0m\n",
            "\u001b[?25hDownloading tzdata-2024.1-py2.py3-none-any.whl (345 kB)\n",
            "\u001b[2K   \u001b[90m━━━━━━━━━━━━━━━━━━━━━━━━━━━━━━━━━━━━━━━━\u001b[0m \u001b[32m345.4/345.4 kB\u001b[0m \u001b[31m2.5 MB/s\u001b[0m eta \u001b[36m0:00:00\u001b[0m00:01\u001b[0m00:01\u001b[0m\n",
            "\u001b[?25hInstalling collected packages: pytz, tzdata, pandas\n",
            "Successfully installed pandas-2.2.1 pytz-2024.1 tzdata-2024.1\n",
            "Note: you may need to restart the kernel to use updated packages.\n",
            "{'OH': 'Ohio', 'TN': 'Tennessee', 'AZ': 'Arizona', 'PA': 'Pennsylvania', 'AK': 'Alaska'}\n"
          ]
        }
      ],
      "source": [
        "%pip install pandas\n",
        "\n",
        "import pandas as pd\n",
        "\n",
        "# Create a dictionary to use for experiments\n",
        "states_dict = {'OH': 'Ohio', 'TN': 'Tennessee', 'AZ': 'Arizona', 'PA': 'Pennsylvania', 'AK': 'Alaska'}\n",
        "print(states_dict)"
      ]
    },
    {
      "cell_type": "markdown",
      "metadata": {},
      "source": [
        "## pandas Series\n",
        "\n",
        "Series are one-dimensional pandas data structures that are sort of a hybrid of dictionaries and lists. They are ordered, but they also are labeled.\n",
        "\n",
        "We can create an instance of a Series by passing a dictionary as an argument into `pd.Series()`:"
      ]
    },
    {
      "cell_type": "code",
      "execution_count": 18,
      "metadata": {},
      "outputs": [
        {
          "name": "stdout",
          "output_type": "stream",
          "text": [
            "OH            Ohio\n",
            "TN       Tennessee\n",
            "AZ         Arizona\n",
            "PA    Pennsylvania\n",
            "AK          Alaska\n",
            "dtype: object\n"
          ]
        }
      ],
      "source": [
        "states_series = pd.Series(states_dict)\n",
        "print(states_series)"
      ]
    },
    {
      "cell_type": "markdown",
      "metadata": {},
      "source": [
        "When a Series is displayed, the label index is shown on the left and the Series items are shown on the right.\n",
        "\n",
        "We can refer to items in a Series by either position (using an integer index) or by their name (using the label index for the item). Integer indexing is zero-based as with everything else in Python."
      ]
    },
    {
      "cell_type": "code",
      "execution_count": 19,
      "metadata": {},
      "outputs": [
        {
          "name": "stdout",
          "output_type": "stream",
          "text": [
            "Arizona\n",
            "Tennessee\n"
          ]
        },
        {
          "name": "stderr",
          "output_type": "stream",
          "text": [
            "/var/folders/3p/zy1bwbfx5vj77mf_1kj6ytv80000gn/T/ipykernel_72822/449506648.py:1: FutureWarning: Series.__getitem__ treating keys as positions is deprecated. In a future version, integer keys will always be treated as labels (consistent with DataFrame behavior). To access a value by position, use `ser.iloc[pos]`\n",
            "  print(states_series[2])\n"
          ]
        }
      ],
      "source": [
        "print(states_series[2])\n",
        "print(states_series['TN'])"
      ]
    },
    {
      "cell_type": "markdown",
      "metadata": {},
      "source": [
        "Series item 2 is the third item in the Series since we start counting with zero.\n",
        "\n",
        "There is an alternate way of referring to Series items by position that makes the indexing system explicit. `.loc[]` locates items by label index, and `.iloc[]` locates items by integer index. WARNING: One gotcha here is that the \"i\" in \"iloc\" should be thought of as referring to \"integer\", NOT \"index\". In pandas, when the term \"index\" is used by itself, it refers to the label index, not the integer index.\n",
        "\n",
        "Specifying a single index in `.loc[]` or `.iloc[]` returns a single value from the Series. In this case the values are strings, so the type of the returned value is string."
      ]
    },
    {
      "cell_type": "code",
      "execution_count": 20,
      "metadata": {},
      "outputs": [
        {
          "name": "stdout",
          "output_type": "stream",
          "text": [
            "Arizona\n",
            "Tennessee\n",
            "<class 'str'>\n"
          ]
        }
      ],
      "source": [
        "print(states_series.iloc[2])\n",
        "print(states_series.loc['TN'])\n",
        "print(type(states_series.loc['TN']))"
      ]
    },
    {
      "cell_type": "markdown",
      "metadata": {},
      "source": [
        "## pandas DataFrames\n",
        "\n",
        "DataFrames are two-dimensional data structures composed of Series with shared indices.\n",
        "\n",
        "DataFrames can be created from a dictionary of Series."
      ]
    },
    {
      "cell_type": "code",
      "execution_count": 21,
      "metadata": {},
      "outputs": [
        {
          "name": "stdout",
          "output_type": "stream",
          "text": [
            "OH            Ohio\n",
            "TN       Tennessee\n",
            "AZ         Arizona\n",
            "PA    Pennsylvania\n",
            "AK          Alaska\n",
            "dtype: object\n",
            "\n",
            "OH      Columbus\n",
            "TN     Nashville\n",
            "AZ       Phoenix\n",
            "PA    Harrisburg\n",
            "AK        Juneau\n",
            "dtype: object\n",
            "\n",
            "OH    11799448\n",
            "TN     6910840\n",
            "AZ     7151502\n",
            "PA    13002700\n",
            "AK      733391\n",
            "dtype: int64\n"
          ]
        }
      ],
      "source": [
        "text_series = pd.Series({'OH': 'Ohio', 'TN': 'Tennessee', 'AZ': 'Arizona', 'PA': 'Pennsylvania', 'AK': 'Alaska'})\n",
        "capital_series = pd.Series({'OH': 'Columbus', 'TN': 'Nashville', 'AZ': 'Phoenix', 'PA': 'Harrisburg', 'AK': 'Juneau'})\n",
        "population_series = pd.Series({'OH': 11799448, 'TN': 6910840, 'AZ': 7151502, 'PA': 13002700, 'AK': 733391})\n",
        "print(text_series)\n",
        "print()\n",
        "print(capital_series)\n",
        "print()\n",
        "print(population_series)\n",
        "\n",
        "states_dict = {'text': text_series, 'capital': capital_series, 'population': population_series}\n",
        "states_df = pd.DataFrame(states_dict)"
      ]
    },
    {
      "cell_type": "markdown",
      "metadata": {},
      "source": [
        "When created in this way, the dictionary keys are used as the column headers (column label indices) and each series becomes a column. The label indices of the series are shared by all of the rows as the row label indices.\n",
        "\n",
        "When you print a pandas DataFrame, you get a text representation. If the name is given as the last line of the notebook cell, it's displayed in a \"prettier\" form."
      ]
    },
    {
      "cell_type": "code",
      "execution_count": 24,
      "metadata": {},
      "outputs": [
        {
          "name": "stdout",
          "output_type": "stream",
          "text": [
            "            text     capital  population\n",
            "OH          Ohio    Columbus    11799448\n",
            "TN     Tennessee   Nashville     6910840\n",
            "AZ       Arizona     Phoenix     7151502\n",
            "PA  Pennsylvania  Harrisburg    13002700\n",
            "AK        Alaska      Juneau      733391\n",
            "OH      Columbus\n",
            "TN     Nashville\n",
            "AZ       Phoenix\n",
            "PA    Harrisburg\n",
            "AK        Juneau\n",
            "Name: capital, dtype: object\n",
            "text          Arizona\n",
            "capital       Phoenix\n",
            "population    7151502\n",
            "Name: AZ, dtype: object\n",
            "text          Arizona\n",
            "capital       Phoenix\n",
            "population    7151502\n",
            "Name: AZ, dtype: object\n"
          ]
        },
        {
          "data": {
            "text/html": [
              "<div>\n",
              "<style scoped>\n",
              "    .dataframe tbody tr th:only-of-type {\n",
              "        vertical-align: middle;\n",
              "    }\n",
              "\n",
              "    .dataframe tbody tr th {\n",
              "        vertical-align: top;\n",
              "    }\n",
              "\n",
              "    .dataframe thead th {\n",
              "        text-align: right;\n",
              "    }\n",
              "</style>\n",
              "<table border=\"1\" class=\"dataframe\">\n",
              "  <thead>\n",
              "    <tr style=\"text-align: right;\">\n",
              "      <th></th>\n",
              "      <th>text</th>\n",
              "      <th>capital</th>\n",
              "      <th>population</th>\n",
              "    </tr>\n",
              "  </thead>\n",
              "  <tbody>\n",
              "    <tr>\n",
              "      <th>OH</th>\n",
              "      <td>Ohio</td>\n",
              "      <td>Columbus</td>\n",
              "      <td>11799448</td>\n",
              "    </tr>\n",
              "    <tr>\n",
              "      <th>TN</th>\n",
              "      <td>Tennessee</td>\n",
              "      <td>Nashville</td>\n",
              "      <td>6910840</td>\n",
              "    </tr>\n",
              "    <tr>\n",
              "      <th>AZ</th>\n",
              "      <td>Arizona</td>\n",
              "      <td>Phoenix</td>\n",
              "      <td>7151502</td>\n",
              "    </tr>\n",
              "    <tr>\n",
              "      <th>PA</th>\n",
              "      <td>Pennsylvania</td>\n",
              "      <td>Harrisburg</td>\n",
              "      <td>13002700</td>\n",
              "    </tr>\n",
              "    <tr>\n",
              "      <th>AK</th>\n",
              "      <td>Alaska</td>\n",
              "      <td>Juneau</td>\n",
              "      <td>733391</td>\n",
              "    </tr>\n",
              "  </tbody>\n",
              "</table>\n",
              "</div>"
            ],
            "text/plain": [
              "            text     capital  population\n",
              "OH          Ohio    Columbus    11799448\n",
              "TN     Tennessee   Nashville     6910840\n",
              "AZ       Arizona     Phoenix     7151502\n",
              "PA  Pennsylvania  Harrisburg    13002700\n",
              "AK        Alaska      Juneau      733391"
            ]
          },
          "execution_count": 24,
          "metadata": {},
          "output_type": "execute_result"
        }
      ],
      "source": [
        "print(states_df)\n",
        "print(states_df['capital'])\n",
        "print(states_df.loc['AZ'])\n",
        "print(states_df.iloc[2])\n",
        "states_df"
      ]
    },
    {
      "cell_type": "markdown",
      "metadata": {},
      "source": [
        "## Specifying a column\n",
        "\n",
        "We can specify a column by using its column header as the label index in square brackets. The resulting column is a pandas Series."
      ]
    },
    {
      "cell_type": "code",
      "execution_count": 25,
      "metadata": {},
      "outputs": [
        {
          "name": "stdout",
          "output_type": "stream",
          "text": [
            "OH      Columbus\n",
            "TN     Nashville\n",
            "AZ       Phoenix\n",
            "PA    Harrisburg\n",
            "AK        Juneau\n",
            "Name: capital, dtype: object\n",
            "\n",
            "<class 'pandas.core.series.Series'>\n"
          ]
        }
      ],
      "source": [
        "print(states_df['capital'])\n",
        "print()\n",
        "print(type(states_df['capital']))"
      ]
    },
    {
      "cell_type": "markdown",
      "metadata": {},
      "source": [
        "## Specifying a row\n",
        "\n",
        "Select a row using `.loc` with the label index and `.iloc` with the integer position. The resulting output is a series, with the column labels as its label indices."
      ]
    },
    {
      "cell_type": "code",
      "execution_count": 26,
      "metadata": {},
      "outputs": [
        {
          "name": "stdout",
          "output_type": "stream",
          "text": [
            "text          Arizona\n",
            "capital       Phoenix\n",
            "population    7151502\n",
            "Name: AZ, dtype: object\n",
            "\n",
            "text          Tennessee\n",
            "capital       Nashville\n",
            "population      6910840\n",
            "Name: TN, dtype: object\n"
          ]
        }
      ],
      "source": [
        "print(states_df.loc['AZ'])\n",
        "print()\n",
        "print(states_df.iloc[1])"
      ]
    },
    {
      "cell_type": "markdown",
      "metadata": {},
      "source": [
        "## Specifying a cell\n",
        "\n",
        "Select a cell using `.loc` with the label index and column label. The resulting output is the type of data containted in the cell."
      ]
    },
    {
      "cell_type": "code",
      "execution_count": 27,
      "metadata": {},
      "outputs": [
        {
          "name": "stdout",
          "output_type": "stream",
          "text": [
            "13002700\n",
            "<class 'numpy.int64'>\n",
            "Juneau\n",
            "<class 'str'>\n"
          ]
        }
      ],
      "source": [
        "print(states_df.loc['PA', 'population'])\n",
        "print(type(states_df.loc['PA', 'population']))\n",
        "print(states_df.loc['AK', 'capital'])\n",
        "print(type(states_df.loc['AK', 'capital']))"
      ]
    },
    {
      "cell_type": "markdown",
      "metadata": {},
      "source": [
        "## Practice\n",
        "\n",
        "Print the expressions for the following:\n",
        "- The population column\n",
        "- The row for Tennessee, using the label index\n",
        "- The row for Alaska, using the integer index\n",
        "- The capital of Pennsylvania"
      ]
    },
    {
      "cell_type": "code",
      "execution_count": 31,
      "metadata": {},
      "outputs": [
        {
          "name": "stdout",
          "output_type": "stream",
          "text": [
            "OH    11799448\n",
            "TN     6910840\n",
            "AZ     7151502\n",
            "PA    13002700\n",
            "AK      733391\n",
            "Name: population, dtype: int64\n",
            "text          Tennessee\n",
            "capital       Nashville\n",
            "population      6910840\n",
            "Name: TN, dtype: object\n",
            "text          Alaska\n",
            "capital       Juneau\n",
            "population    733391\n",
            "Name: AK, dtype: object\n",
            "Harrisburg\n"
          ]
        }
      ],
      "source": [
        "print(states_df['population'])\n",
        "\n",
        "print(states_df.loc['TN'])\n",
        "\n",
        "print(states_df.iloc[4])\n",
        "\n",
        "print(states_df.loc['PA', 'capital'])"
      ]
    },
    {
      "cell_type": "markdown",
      "metadata": {},
      "source": [
        "# Loading a DataFrame from a file\n",
        "\n",
        "Although there are a number of ways to build a pandas DataFrame from simpler Python objects, most of the time we will create them from data that are already in tablular form in a file. \n",
        "\n",
        "You can load a CSV file by passing in its URL as the argument of the `.read_csv()` function. Since the `School ID` column is a unique identifier for each row, we can use it as the index column."
      ]
    },
    {
      "cell_type": "code",
      "execution_count": 32,
      "metadata": {},
      "outputs": [
        {
          "data": {
            "text/html": [
              "<div>\n",
              "<style scoped>\n",
              "    .dataframe tbody tr th:only-of-type {\n",
              "        vertical-align: middle;\n",
              "    }\n",
              "\n",
              "    .dataframe tbody tr th {\n",
              "        vertical-align: top;\n",
              "    }\n",
              "\n",
              "    .dataframe thead th {\n",
              "        text-align: right;\n",
              "    }\n",
              "</style>\n",
              "<table border=\"1\" class=\"dataframe\">\n",
              "  <thead>\n",
              "    <tr style=\"text-align: right;\">\n",
              "      <th></th>\n",
              "      <th>School Year</th>\n",
              "      <th>School Level</th>\n",
              "      <th>School Name</th>\n",
              "      <th>State School ID</th>\n",
              "      <th>Zip Code</th>\n",
              "      <th>Grade PreK 3yrs</th>\n",
              "      <th>Grade PreK 4yrs</th>\n",
              "      <th>Grade K</th>\n",
              "      <th>Grade 1</th>\n",
              "      <th>Grade 2</th>\n",
              "      <th>...</th>\n",
              "      <th>Native Hawaiian or Other Pacific Islander</th>\n",
              "      <th>White</th>\n",
              "      <th>Male</th>\n",
              "      <th>Female</th>\n",
              "      <th>Economically Disadvantaged</th>\n",
              "      <th>Disability</th>\n",
              "      <th>Limited English Proficiency</th>\n",
              "      <th>Latitude</th>\n",
              "      <th>Longitude</th>\n",
              "      <th>Mapped Location</th>\n",
              "    </tr>\n",
              "    <tr>\n",
              "      <th>School ID</th>\n",
              "      <th></th>\n",
              "      <th></th>\n",
              "      <th></th>\n",
              "      <th></th>\n",
              "      <th></th>\n",
              "      <th></th>\n",
              "      <th></th>\n",
              "      <th></th>\n",
              "      <th></th>\n",
              "      <th></th>\n",
              "      <th></th>\n",
              "      <th></th>\n",
              "      <th></th>\n",
              "      <th></th>\n",
              "      <th></th>\n",
              "      <th></th>\n",
              "      <th></th>\n",
              "      <th></th>\n",
              "      <th></th>\n",
              "      <th></th>\n",
              "      <th></th>\n",
              "    </tr>\n",
              "  </thead>\n",
              "  <tbody>\n",
              "    <tr>\n",
              "      <th>496</th>\n",
              "      <td>18-19</td>\n",
              "      <td>Elementary School</td>\n",
              "      <td>A. Z. Kelley Elementary</td>\n",
              "      <td>1</td>\n",
              "      <td>37013</td>\n",
              "      <td>NaN</td>\n",
              "      <td>40.0</td>\n",
              "      <td>153.0</td>\n",
              "      <td>146.0</td>\n",
              "      <td>177.0</td>\n",
              "      <td>...</td>\n",
              "      <td>NaN</td>\n",
              "      <td>218</td>\n",
              "      <td>423</td>\n",
              "      <td>424</td>\n",
              "      <td>300.0</td>\n",
              "      <td>91</td>\n",
              "      <td>301.0</td>\n",
              "      <td>36.021817</td>\n",
              "      <td>-86.658848</td>\n",
              "      <td>(36.02181712, -86.65884778)</td>\n",
              "    </tr>\n",
              "    <tr>\n",
              "      <th>375</th>\n",
              "      <td>18-19</td>\n",
              "      <td>Elementary School</td>\n",
              "      <td>Alex Green Elementary</td>\n",
              "      <td>5</td>\n",
              "      <td>37189</td>\n",
              "      <td>NaN</td>\n",
              "      <td>37.0</td>\n",
              "      <td>53.0</td>\n",
              "      <td>46.0</td>\n",
              "      <td>40.0</td>\n",
              "      <td>...</td>\n",
              "      <td>NaN</td>\n",
              "      <td>15</td>\n",
              "      <td>123</td>\n",
              "      <td>143</td>\n",
              "      <td>183.0</td>\n",
              "      <td>19</td>\n",
              "      <td>25.0</td>\n",
              "      <td>36.252961</td>\n",
              "      <td>-86.832229</td>\n",
              "      <td>(36.2529607, -86.8322292)</td>\n",
              "    </tr>\n",
              "    <tr>\n",
              "      <th>105</th>\n",
              "      <td>18-19</td>\n",
              "      <td>Elementary School</td>\n",
              "      <td>Amqui Elementary</td>\n",
              "      <td>10</td>\n",
              "      <td>37115</td>\n",
              "      <td>2.0</td>\n",
              "      <td>29.0</td>\n",
              "      <td>91.0</td>\n",
              "      <td>81.0</td>\n",
              "      <td>89.0</td>\n",
              "      <td>...</td>\n",
              "      <td>NaN</td>\n",
              "      <td>73</td>\n",
              "      <td>230</td>\n",
              "      <td>234</td>\n",
              "      <td>244.0</td>\n",
              "      <td>47</td>\n",
              "      <td>122.0</td>\n",
              "      <td>36.273766</td>\n",
              "      <td>-86.703832</td>\n",
              "      <td>(36.27376585, -86.70383153)</td>\n",
              "    </tr>\n",
              "    <tr>\n",
              "      <th>460</th>\n",
              "      <td>18-19</td>\n",
              "      <td>Elementary School</td>\n",
              "      <td>Andrew Jackson Elementary</td>\n",
              "      <td>15</td>\n",
              "      <td>37138</td>\n",
              "      <td>4.0</td>\n",
              "      <td>29.0</td>\n",
              "      <td>93.0</td>\n",
              "      <td>85.0</td>\n",
              "      <td>90.0</td>\n",
              "      <td>...</td>\n",
              "      <td>1.0</td>\n",
              "      <td>270</td>\n",
              "      <td>252</td>\n",
              "      <td>250</td>\n",
              "      <td>99.0</td>\n",
              "      <td>66</td>\n",
              "      <td>33.0</td>\n",
              "      <td>36.231585</td>\n",
              "      <td>-86.623775</td>\n",
              "      <td>(36.23158465, -86.62377469)</td>\n",
              "    </tr>\n",
              "    <tr>\n",
              "      <th>110</th>\n",
              "      <td>18-19</td>\n",
              "      <td>High School</td>\n",
              "      <td>Antioch High School</td>\n",
              "      <td>20</td>\n",
              "      <td>37013</td>\n",
              "      <td>NaN</td>\n",
              "      <td>NaN</td>\n",
              "      <td>NaN</td>\n",
              "      <td>NaN</td>\n",
              "      <td>NaN</td>\n",
              "      <td>...</td>\n",
              "      <td>1.0</td>\n",
              "      <td>442</td>\n",
              "      <td>1047</td>\n",
              "      <td>909</td>\n",
              "      <td>716.0</td>\n",
              "      <td>223</td>\n",
              "      <td>544.0</td>\n",
              "      <td>36.046675</td>\n",
              "      <td>-86.599418</td>\n",
              "      <td>(36.04667464, -86.59941833)</td>\n",
              "    </tr>\n",
              "    <tr>\n",
              "      <th>...</th>\n",
              "      <td>...</td>\n",
              "      <td>...</td>\n",
              "      <td>...</td>\n",
              "      <td>...</td>\n",
              "      <td>...</td>\n",
              "      <td>...</td>\n",
              "      <td>...</td>\n",
              "      <td>...</td>\n",
              "      <td>...</td>\n",
              "      <td>...</td>\n",
              "      <td>...</td>\n",
              "      <td>...</td>\n",
              "      <td>...</td>\n",
              "      <td>...</td>\n",
              "      <td>...</td>\n",
              "      <td>...</td>\n",
              "      <td>...</td>\n",
              "      <td>...</td>\n",
              "      <td>...</td>\n",
              "      <td>...</td>\n",
              "      <td>...</td>\n",
              "    </tr>\n",
              "    <tr>\n",
              "      <th>770</th>\n",
              "      <td>18-19</td>\n",
              "      <td>Middle School</td>\n",
              "      <td>West End Middle</td>\n",
              "      <td>690</td>\n",
              "      <td>37205</td>\n",
              "      <td>NaN</td>\n",
              "      <td>NaN</td>\n",
              "      <td>NaN</td>\n",
              "      <td>NaN</td>\n",
              "      <td>NaN</td>\n",
              "      <td>...</td>\n",
              "      <td>1.0</td>\n",
              "      <td>253</td>\n",
              "      <td>276</td>\n",
              "      <td>256</td>\n",
              "      <td>132.0</td>\n",
              "      <td>106</td>\n",
              "      <td>27.0</td>\n",
              "      <td>36.131975</td>\n",
              "      <td>-86.824323</td>\n",
              "      <td>(36.13197471, -86.82432265)</td>\n",
              "    </tr>\n",
              "    <tr>\n",
              "      <th>775</th>\n",
              "      <td>18-19</td>\n",
              "      <td>Elementary School</td>\n",
              "      <td>Westmeade Elementary</td>\n",
              "      <td>695</td>\n",
              "      <td>37205</td>\n",
              "      <td>NaN</td>\n",
              "      <td>NaN</td>\n",
              "      <td>88.0</td>\n",
              "      <td>85.0</td>\n",
              "      <td>88.0</td>\n",
              "      <td>...</td>\n",
              "      <td>2.0</td>\n",
              "      <td>198</td>\n",
              "      <td>237</td>\n",
              "      <td>187</td>\n",
              "      <td>128.0</td>\n",
              "      <td>54</td>\n",
              "      <td>61.0</td>\n",
              "      <td>36.091997</td>\n",
              "      <td>-86.894137</td>\n",
              "      <td>(36.09199678, -86.89413665)</td>\n",
              "    </tr>\n",
              "    <tr>\n",
              "      <th>787</th>\n",
              "      <td>18-19</td>\n",
              "      <td>High School</td>\n",
              "      <td>Whites Creek High School</td>\n",
              "      <td>704</td>\n",
              "      <td>37189</td>\n",
              "      <td>NaN</td>\n",
              "      <td>NaN</td>\n",
              "      <td>NaN</td>\n",
              "      <td>NaN</td>\n",
              "      <td>NaN</td>\n",
              "      <td>...</td>\n",
              "      <td>1.0</td>\n",
              "      <td>80</td>\n",
              "      <td>316</td>\n",
              "      <td>336</td>\n",
              "      <td>370.0</td>\n",
              "      <td>132</td>\n",
              "      <td>18.0</td>\n",
              "      <td>36.276645</td>\n",
              "      <td>-86.818833</td>\n",
              "      <td>(36.27664532, -86.81883299)</td>\n",
              "    </tr>\n",
              "    <tr>\n",
              "      <th>612</th>\n",
              "      <td>18-19</td>\n",
              "      <td>Middle School</td>\n",
              "      <td>William Henry Oliver Middle</td>\n",
              "      <td>538</td>\n",
              "      <td>37211</td>\n",
              "      <td>NaN</td>\n",
              "      <td>NaN</td>\n",
              "      <td>NaN</td>\n",
              "      <td>NaN</td>\n",
              "      <td>NaN</td>\n",
              "      <td>...</td>\n",
              "      <td>4.0</td>\n",
              "      <td>444</td>\n",
              "      <td>476</td>\n",
              "      <td>484</td>\n",
              "      <td>253.0</td>\n",
              "      <td>113</td>\n",
              "      <td>208.0</td>\n",
              "      <td>36.020174</td>\n",
              "      <td>-86.712207</td>\n",
              "      <td>(36.02017398, -86.7122071)</td>\n",
              "    </tr>\n",
              "    <tr>\n",
              "      <th>805</th>\n",
              "      <td>18-19</td>\n",
              "      <td>Middle School</td>\n",
              "      <td>Wright Middle</td>\n",
              "      <td>715</td>\n",
              "      <td>37211</td>\n",
              "      <td>NaN</td>\n",
              "      <td>NaN</td>\n",
              "      <td>NaN</td>\n",
              "      <td>NaN</td>\n",
              "      <td>NaN</td>\n",
              "      <td>...</td>\n",
              "      <td>NaN</td>\n",
              "      <td>121</td>\n",
              "      <td>396</td>\n",
              "      <td>342</td>\n",
              "      <td>394.0</td>\n",
              "      <td>80</td>\n",
              "      <td>436.0</td>\n",
              "      <td>36.100109</td>\n",
              "      <td>-86.734133</td>\n",
              "      <td>(36.10010888, -86.73413342)</td>\n",
              "    </tr>\n",
              "  </tbody>\n",
              "</table>\n",
              "<p>169 rows × 34 columns</p>\n",
              "</div>"
            ],
            "text/plain": [
              "          School Year       School Level                  School Name  \\\n",
              "School ID                                                               \n",
              "496             18-19  Elementary School      A. Z. Kelley Elementary   \n",
              "375             18-19  Elementary School        Alex Green Elementary   \n",
              "105             18-19  Elementary School             Amqui Elementary   \n",
              "460             18-19  Elementary School    Andrew Jackson Elementary   \n",
              "110             18-19        High School          Antioch High School   \n",
              "...               ...                ...                          ...   \n",
              "770             18-19      Middle School              West End Middle   \n",
              "775             18-19  Elementary School         Westmeade Elementary   \n",
              "787             18-19        High School     Whites Creek High School   \n",
              "612             18-19      Middle School  William Henry Oliver Middle   \n",
              "805             18-19      Middle School                Wright Middle   \n",
              "\n",
              "           State School ID  Zip Code  Grade PreK 3yrs  Grade PreK 4yrs  \\\n",
              "School ID                                                                \n",
              "496                      1     37013              NaN             40.0   \n",
              "375                      5     37189              NaN             37.0   \n",
              "105                     10     37115              2.0             29.0   \n",
              "460                     15     37138              4.0             29.0   \n",
              "110                     20     37013              NaN              NaN   \n",
              "...                    ...       ...              ...              ...   \n",
              "770                    690     37205              NaN              NaN   \n",
              "775                    695     37205              NaN              NaN   \n",
              "787                    704     37189              NaN              NaN   \n",
              "612                    538     37211              NaN              NaN   \n",
              "805                    715     37211              NaN              NaN   \n",
              "\n",
              "           Grade K  Grade 1  Grade 2  ...  \\\n",
              "School ID                             ...   \n",
              "496          153.0    146.0    177.0  ...   \n",
              "375           53.0     46.0     40.0  ...   \n",
              "105           91.0     81.0     89.0  ...   \n",
              "460           93.0     85.0     90.0  ...   \n",
              "110            NaN      NaN      NaN  ...   \n",
              "...            ...      ...      ...  ...   \n",
              "770            NaN      NaN      NaN  ...   \n",
              "775           88.0     85.0     88.0  ...   \n",
              "787            NaN      NaN      NaN  ...   \n",
              "612            NaN      NaN      NaN  ...   \n",
              "805            NaN      NaN      NaN  ...   \n",
              "\n",
              "           Native Hawaiian or Other Pacific Islander  White  Male  Female  \\\n",
              "School ID                                                                   \n",
              "496                                              NaN    218   423     424   \n",
              "375                                              NaN     15   123     143   \n",
              "105                                              NaN     73   230     234   \n",
              "460                                              1.0    270   252     250   \n",
              "110                                              1.0    442  1047     909   \n",
              "...                                              ...    ...   ...     ...   \n",
              "770                                              1.0    253   276     256   \n",
              "775                                              2.0    198   237     187   \n",
              "787                                              1.0     80   316     336   \n",
              "612                                              4.0    444   476     484   \n",
              "805                                              NaN    121   396     342   \n",
              "\n",
              "           Economically Disadvantaged  Disability  \\\n",
              "School ID                                           \n",
              "496                             300.0          91   \n",
              "375                             183.0          19   \n",
              "105                             244.0          47   \n",
              "460                              99.0          66   \n",
              "110                             716.0         223   \n",
              "...                               ...         ...   \n",
              "770                             132.0         106   \n",
              "775                             128.0          54   \n",
              "787                             370.0         132   \n",
              "612                             253.0         113   \n",
              "805                             394.0          80   \n",
              "\n",
              "           Limited English Proficiency   Latitude  Longitude  \\\n",
              "School ID                                                      \n",
              "496                              301.0  36.021817 -86.658848   \n",
              "375                               25.0  36.252961 -86.832229   \n",
              "105                              122.0  36.273766 -86.703832   \n",
              "460                               33.0  36.231585 -86.623775   \n",
              "110                              544.0  36.046675 -86.599418   \n",
              "...                                ...        ...        ...   \n",
              "770                               27.0  36.131975 -86.824323   \n",
              "775                               61.0  36.091997 -86.894137   \n",
              "787                               18.0  36.276645 -86.818833   \n",
              "612                              208.0  36.020174 -86.712207   \n",
              "805                              436.0  36.100109 -86.734133   \n",
              "\n",
              "                       Mapped Location  \n",
              "School ID                               \n",
              "496        (36.02181712, -86.65884778)  \n",
              "375          (36.2529607, -86.8322292)  \n",
              "105        (36.27376585, -86.70383153)  \n",
              "460        (36.23158465, -86.62377469)  \n",
              "110        (36.04667464, -86.59941833)  \n",
              "...                                ...  \n",
              "770        (36.13197471, -86.82432265)  \n",
              "775        (36.09199678, -86.89413665)  \n",
              "787        (36.27664532, -86.81883299)  \n",
              "612         (36.02017398, -86.7122071)  \n",
              "805        (36.10010888, -86.73413342)  \n",
              "\n",
              "[169 rows x 34 columns]"
            ]
          },
          "execution_count": 32,
          "metadata": {},
          "output_type": "execute_result"
        }
      ],
      "source": [
        "schools_df = pd.read_csv('https://raw.githubusercontent.com/HeardLibrary/digital-scholarship/master/data/gis/wg/Metro_Nashville_Schools.csv')\n",
        "# Set the row label index to be the School ID column\n",
        "schools_df = schools_df.set_index('School ID')\n",
        "schools_df"
      ]
    },
    {
      "cell_type": "markdown",
      "metadata": {},
      "source": [
        "If a DataFrame is large, it will be difficult to examine the whole thing at once. We can use several methods to view characteristics of the DataFrame.\n",
        "\n",
        "The `.head()` method will display the first 5 rows of the DataFrame. You can pass in a different number of rows to display as an argument. "
      ]
    },
    {
      "cell_type": "code",
      "execution_count": 35,
      "metadata": {},
      "outputs": [
        {
          "data": {
            "text/html": [
              "<div>\n",
              "<style scoped>\n",
              "    .dataframe tbody tr th:only-of-type {\n",
              "        vertical-align: middle;\n",
              "    }\n",
              "\n",
              "    .dataframe tbody tr th {\n",
              "        vertical-align: top;\n",
              "    }\n",
              "\n",
              "    .dataframe thead th {\n",
              "        text-align: right;\n",
              "    }\n",
              "</style>\n",
              "<table border=\"1\" class=\"dataframe\">\n",
              "  <thead>\n",
              "    <tr style=\"text-align: right;\">\n",
              "      <th></th>\n",
              "      <th>School Year</th>\n",
              "      <th>School Level</th>\n",
              "      <th>School Name</th>\n",
              "      <th>State School ID</th>\n",
              "      <th>Zip Code</th>\n",
              "      <th>Grade PreK 3yrs</th>\n",
              "      <th>Grade PreK 4yrs</th>\n",
              "      <th>Grade K</th>\n",
              "      <th>Grade 1</th>\n",
              "      <th>Grade 2</th>\n",
              "      <th>...</th>\n",
              "      <th>Native Hawaiian or Other Pacific Islander</th>\n",
              "      <th>White</th>\n",
              "      <th>Male</th>\n",
              "      <th>Female</th>\n",
              "      <th>Economically Disadvantaged</th>\n",
              "      <th>Disability</th>\n",
              "      <th>Limited English Proficiency</th>\n",
              "      <th>Latitude</th>\n",
              "      <th>Longitude</th>\n",
              "      <th>Mapped Location</th>\n",
              "    </tr>\n",
              "    <tr>\n",
              "      <th>School ID</th>\n",
              "      <th></th>\n",
              "      <th></th>\n",
              "      <th></th>\n",
              "      <th></th>\n",
              "      <th></th>\n",
              "      <th></th>\n",
              "      <th></th>\n",
              "      <th></th>\n",
              "      <th></th>\n",
              "      <th></th>\n",
              "      <th></th>\n",
              "      <th></th>\n",
              "      <th></th>\n",
              "      <th></th>\n",
              "      <th></th>\n",
              "      <th></th>\n",
              "      <th></th>\n",
              "      <th></th>\n",
              "      <th></th>\n",
              "      <th></th>\n",
              "      <th></th>\n",
              "    </tr>\n",
              "  </thead>\n",
              "  <tbody>\n",
              "    <tr>\n",
              "      <th>496</th>\n",
              "      <td>18-19</td>\n",
              "      <td>Elementary School</td>\n",
              "      <td>A. Z. Kelley Elementary</td>\n",
              "      <td>1</td>\n",
              "      <td>37013</td>\n",
              "      <td>NaN</td>\n",
              "      <td>40.0</td>\n",
              "      <td>153.0</td>\n",
              "      <td>146.0</td>\n",
              "      <td>177.0</td>\n",
              "      <td>...</td>\n",
              "      <td>NaN</td>\n",
              "      <td>218</td>\n",
              "      <td>423</td>\n",
              "      <td>424</td>\n",
              "      <td>300.0</td>\n",
              "      <td>91</td>\n",
              "      <td>301.0</td>\n",
              "      <td>36.021817</td>\n",
              "      <td>-86.658848</td>\n",
              "      <td>(36.02181712, -86.65884778)</td>\n",
              "    </tr>\n",
              "    <tr>\n",
              "      <th>375</th>\n",
              "      <td>18-19</td>\n",
              "      <td>Elementary School</td>\n",
              "      <td>Alex Green Elementary</td>\n",
              "      <td>5</td>\n",
              "      <td>37189</td>\n",
              "      <td>NaN</td>\n",
              "      <td>37.0</td>\n",
              "      <td>53.0</td>\n",
              "      <td>46.0</td>\n",
              "      <td>40.0</td>\n",
              "      <td>...</td>\n",
              "      <td>NaN</td>\n",
              "      <td>15</td>\n",
              "      <td>123</td>\n",
              "      <td>143</td>\n",
              "      <td>183.0</td>\n",
              "      <td>19</td>\n",
              "      <td>25.0</td>\n",
              "      <td>36.252961</td>\n",
              "      <td>-86.832229</td>\n",
              "      <td>(36.2529607, -86.8322292)</td>\n",
              "    </tr>\n",
              "    <tr>\n",
              "      <th>105</th>\n",
              "      <td>18-19</td>\n",
              "      <td>Elementary School</td>\n",
              "      <td>Amqui Elementary</td>\n",
              "      <td>10</td>\n",
              "      <td>37115</td>\n",
              "      <td>2.0</td>\n",
              "      <td>29.0</td>\n",
              "      <td>91.0</td>\n",
              "      <td>81.0</td>\n",
              "      <td>89.0</td>\n",
              "      <td>...</td>\n",
              "      <td>NaN</td>\n",
              "      <td>73</td>\n",
              "      <td>230</td>\n",
              "      <td>234</td>\n",
              "      <td>244.0</td>\n",
              "      <td>47</td>\n",
              "      <td>122.0</td>\n",
              "      <td>36.273766</td>\n",
              "      <td>-86.703832</td>\n",
              "      <td>(36.27376585, -86.70383153)</td>\n",
              "    </tr>\n",
              "    <tr>\n",
              "      <th>460</th>\n",
              "      <td>18-19</td>\n",
              "      <td>Elementary School</td>\n",
              "      <td>Andrew Jackson Elementary</td>\n",
              "      <td>15</td>\n",
              "      <td>37138</td>\n",
              "      <td>4.0</td>\n",
              "      <td>29.0</td>\n",
              "      <td>93.0</td>\n",
              "      <td>85.0</td>\n",
              "      <td>90.0</td>\n",
              "      <td>...</td>\n",
              "      <td>1.0</td>\n",
              "      <td>270</td>\n",
              "      <td>252</td>\n",
              "      <td>250</td>\n",
              "      <td>99.0</td>\n",
              "      <td>66</td>\n",
              "      <td>33.0</td>\n",
              "      <td>36.231585</td>\n",
              "      <td>-86.623775</td>\n",
              "      <td>(36.23158465, -86.62377469)</td>\n",
              "    </tr>\n",
              "    <tr>\n",
              "      <th>110</th>\n",
              "      <td>18-19</td>\n",
              "      <td>High School</td>\n",
              "      <td>Antioch High School</td>\n",
              "      <td>20</td>\n",
              "      <td>37013</td>\n",
              "      <td>NaN</td>\n",
              "      <td>NaN</td>\n",
              "      <td>NaN</td>\n",
              "      <td>NaN</td>\n",
              "      <td>NaN</td>\n",
              "      <td>...</td>\n",
              "      <td>1.0</td>\n",
              "      <td>442</td>\n",
              "      <td>1047</td>\n",
              "      <td>909</td>\n",
              "      <td>716.0</td>\n",
              "      <td>223</td>\n",
              "      <td>544.0</td>\n",
              "      <td>36.046675</td>\n",
              "      <td>-86.599418</td>\n",
              "      <td>(36.04667464, -86.59941833)</td>\n",
              "    </tr>\n",
              "    <tr>\n",
              "      <th>111</th>\n",
              "      <td>18-19</td>\n",
              "      <td>Middle School</td>\n",
              "      <td>Antioch Middle</td>\n",
              "      <td>23</td>\n",
              "      <td>37013</td>\n",
              "      <td>NaN</td>\n",
              "      <td>NaN</td>\n",
              "      <td>NaN</td>\n",
              "      <td>NaN</td>\n",
              "      <td>NaN</td>\n",
              "      <td>...</td>\n",
              "      <td>4.0</td>\n",
              "      <td>112</td>\n",
              "      <td>396</td>\n",
              "      <td>386</td>\n",
              "      <td>403.0</td>\n",
              "      <td>97</td>\n",
              "      <td>391.0</td>\n",
              "      <td>36.055379</td>\n",
              "      <td>-86.671830</td>\n",
              "      <td>(36.05537897, -86.67182989)</td>\n",
              "    </tr>\n",
              "    <tr>\n",
              "      <th>577</th>\n",
              "      <td>18-19</td>\n",
              "      <td>Middle School</td>\n",
              "      <td>Apollo Middle</td>\n",
              "      <td>25</td>\n",
              "      <td>37013</td>\n",
              "      <td>NaN</td>\n",
              "      <td>NaN</td>\n",
              "      <td>NaN</td>\n",
              "      <td>NaN</td>\n",
              "      <td>NaN</td>\n",
              "      <td>...</td>\n",
              "      <td>NaN</td>\n",
              "      <td>152</td>\n",
              "      <td>433</td>\n",
              "      <td>402</td>\n",
              "      <td>403.0</td>\n",
              "      <td>107</td>\n",
              "      <td>392.0</td>\n",
              "      <td>36.066878</td>\n",
              "      <td>-86.664070</td>\n",
              "      <td>(36.06687798, -86.66406971)</td>\n",
              "    </tr>\n",
              "    <tr>\n",
              "      <th>130</th>\n",
              "      <td>18-19</td>\n",
              "      <td>Middle School</td>\n",
              "      <td>Bellevue Middle</td>\n",
              "      <td>40</td>\n",
              "      <td>37221</td>\n",
              "      <td>NaN</td>\n",
              "      <td>NaN</td>\n",
              "      <td>NaN</td>\n",
              "      <td>NaN</td>\n",
              "      <td>NaN</td>\n",
              "      <td>...</td>\n",
              "      <td>NaN</td>\n",
              "      <td>329</td>\n",
              "      <td>350</td>\n",
              "      <td>335</td>\n",
              "      <td>213.0</td>\n",
              "      <td>109</td>\n",
              "      <td>82.0</td>\n",
              "      <td>36.070749</td>\n",
              "      <td>-86.934820</td>\n",
              "      <td>(36.07074879, -86.93482036)</td>\n",
              "    </tr>\n",
              "    <tr>\n",
              "      <th>135</th>\n",
              "      <td>18-19</td>\n",
              "      <td>Elementary School</td>\n",
              "      <td>Bellshire Elementary</td>\n",
              "      <td>45</td>\n",
              "      <td>37207</td>\n",
              "      <td>15.0</td>\n",
              "      <td>43.0</td>\n",
              "      <td>67.0</td>\n",
              "      <td>54.0</td>\n",
              "      <td>52.0</td>\n",
              "      <td>...</td>\n",
              "      <td>NaN</td>\n",
              "      <td>25</td>\n",
              "      <td>163</td>\n",
              "      <td>191</td>\n",
              "      <td>247.0</td>\n",
              "      <td>58</td>\n",
              "      <td>26.0</td>\n",
              "      <td>36.269688</td>\n",
              "      <td>-86.762300</td>\n",
              "      <td>(36.26968766, -86.76230026)</td>\n",
              "    </tr>\n",
              "    <tr>\n",
              "      <th>118</th>\n",
              "      <td>18-19</td>\n",
              "      <td>Charter</td>\n",
              "      <td>Brick Church College Prep</td>\n",
              "      <td>118</td>\n",
              "      <td>37207</td>\n",
              "      <td>NaN</td>\n",
              "      <td>NaN</td>\n",
              "      <td>NaN</td>\n",
              "      <td>NaN</td>\n",
              "      <td>NaN</td>\n",
              "      <td>...</td>\n",
              "      <td>NaN</td>\n",
              "      <td>18</td>\n",
              "      <td>172</td>\n",
              "      <td>141</td>\n",
              "      <td>226.0</td>\n",
              "      <td>6</td>\n",
              "      <td>47.0</td>\n",
              "      <td>36.220739</td>\n",
              "      <td>-86.781752</td>\n",
              "      <td>(36.22073858, -86.78175245)</td>\n",
              "    </tr>\n",
              "  </tbody>\n",
              "</table>\n",
              "<p>10 rows × 34 columns</p>\n",
              "</div>"
            ],
            "text/plain": [
              "          School Year       School Level                School Name  \\\n",
              "School ID                                                             \n",
              "496             18-19  Elementary School    A. Z. Kelley Elementary   \n",
              "375             18-19  Elementary School      Alex Green Elementary   \n",
              "105             18-19  Elementary School           Amqui Elementary   \n",
              "460             18-19  Elementary School  Andrew Jackson Elementary   \n",
              "110             18-19        High School        Antioch High School   \n",
              "111             18-19      Middle School             Antioch Middle   \n",
              "577             18-19      Middle School              Apollo Middle   \n",
              "130             18-19      Middle School            Bellevue Middle   \n",
              "135             18-19  Elementary School       Bellshire Elementary   \n",
              "118             18-19            Charter  Brick Church College Prep   \n",
              "\n",
              "           State School ID  Zip Code  Grade PreK 3yrs  Grade PreK 4yrs  \\\n",
              "School ID                                                                \n",
              "496                      1     37013              NaN             40.0   \n",
              "375                      5     37189              NaN             37.0   \n",
              "105                     10     37115              2.0             29.0   \n",
              "460                     15     37138              4.0             29.0   \n",
              "110                     20     37013              NaN              NaN   \n",
              "111                     23     37013              NaN              NaN   \n",
              "577                     25     37013              NaN              NaN   \n",
              "130                     40     37221              NaN              NaN   \n",
              "135                     45     37207             15.0             43.0   \n",
              "118                    118     37207              NaN              NaN   \n",
              "\n",
              "           Grade K  Grade 1  Grade 2  ...  \\\n",
              "School ID                             ...   \n",
              "496          153.0    146.0    177.0  ...   \n",
              "375           53.0     46.0     40.0  ...   \n",
              "105           91.0     81.0     89.0  ...   \n",
              "460           93.0     85.0     90.0  ...   \n",
              "110            NaN      NaN      NaN  ...   \n",
              "111            NaN      NaN      NaN  ...   \n",
              "577            NaN      NaN      NaN  ...   \n",
              "130            NaN      NaN      NaN  ...   \n",
              "135           67.0     54.0     52.0  ...   \n",
              "118            NaN      NaN      NaN  ...   \n",
              "\n",
              "           Native Hawaiian or Other Pacific Islander  White  Male  Female  \\\n",
              "School ID                                                                   \n",
              "496                                              NaN    218   423     424   \n",
              "375                                              NaN     15   123     143   \n",
              "105                                              NaN     73   230     234   \n",
              "460                                              1.0    270   252     250   \n",
              "110                                              1.0    442  1047     909   \n",
              "111                                              4.0    112   396     386   \n",
              "577                                              NaN    152   433     402   \n",
              "130                                              NaN    329   350     335   \n",
              "135                                              NaN     25   163     191   \n",
              "118                                              NaN     18   172     141   \n",
              "\n",
              "           Economically Disadvantaged  Disability  \\\n",
              "School ID                                           \n",
              "496                             300.0          91   \n",
              "375                             183.0          19   \n",
              "105                             244.0          47   \n",
              "460                              99.0          66   \n",
              "110                             716.0         223   \n",
              "111                             403.0          97   \n",
              "577                             403.0         107   \n",
              "130                             213.0         109   \n",
              "135                             247.0          58   \n",
              "118                             226.0           6   \n",
              "\n",
              "           Limited English Proficiency   Latitude  Longitude  \\\n",
              "School ID                                                      \n",
              "496                              301.0  36.021817 -86.658848   \n",
              "375                               25.0  36.252961 -86.832229   \n",
              "105                              122.0  36.273766 -86.703832   \n",
              "460                               33.0  36.231585 -86.623775   \n",
              "110                              544.0  36.046675 -86.599418   \n",
              "111                              391.0  36.055379 -86.671830   \n",
              "577                              392.0  36.066878 -86.664070   \n",
              "130                               82.0  36.070749 -86.934820   \n",
              "135                               26.0  36.269688 -86.762300   \n",
              "118                               47.0  36.220739 -86.781752   \n",
              "\n",
              "                       Mapped Location  \n",
              "School ID                               \n",
              "496        (36.02181712, -86.65884778)  \n",
              "375          (36.2529607, -86.8322292)  \n",
              "105        (36.27376585, -86.70383153)  \n",
              "460        (36.23158465, -86.62377469)  \n",
              "110        (36.04667464, -86.59941833)  \n",
              "111        (36.05537897, -86.67182989)  \n",
              "577        (36.06687798, -86.66406971)  \n",
              "130        (36.07074879, -86.93482036)  \n",
              "135        (36.26968766, -86.76230026)  \n",
              "118        (36.22073858, -86.78175245)  \n",
              "\n",
              "[10 rows x 34 columns]"
            ]
          },
          "execution_count": 35,
          "metadata": {},
          "output_type": "execute_result"
        }
      ],
      "source": [
        "schools_df.head()"
      ]
    },
    {
      "cell_type": "markdown",
      "metadata": {},
      "source": [
        "## Practice\n",
        "\n",
        "Print the `School Name` column. Then print the first 3 rows of the DataFrame."
      ]
    },
    {
      "cell_type": "code",
      "execution_count": 36,
      "metadata": {},
      "outputs": [
        {
          "name": "stdout",
          "output_type": "stream",
          "text": [
            "School ID\n",
            "496        A. Z. Kelley Elementary\n",
            "375          Alex Green Elementary\n",
            "105               Amqui Elementary\n",
            "460      Andrew Jackson Elementary\n",
            "110            Antioch High School\n",
            "                  ...             \n",
            "770                West End Middle\n",
            "775           Westmeade Elementary\n",
            "787       Whites Creek High School\n",
            "612    William Henry Oliver Middle\n",
            "805                  Wright Middle\n",
            "Name: School Name, Length: 169, dtype: object\n"
          ]
        },
        {
          "data": {
            "text/html": [
              "<div>\n",
              "<style scoped>\n",
              "    .dataframe tbody tr th:only-of-type {\n",
              "        vertical-align: middle;\n",
              "    }\n",
              "\n",
              "    .dataframe tbody tr th {\n",
              "        vertical-align: top;\n",
              "    }\n",
              "\n",
              "    .dataframe thead th {\n",
              "        text-align: right;\n",
              "    }\n",
              "</style>\n",
              "<table border=\"1\" class=\"dataframe\">\n",
              "  <thead>\n",
              "    <tr style=\"text-align: right;\">\n",
              "      <th></th>\n",
              "      <th>School Year</th>\n",
              "      <th>School Level</th>\n",
              "      <th>School Name</th>\n",
              "      <th>State School ID</th>\n",
              "      <th>Zip Code</th>\n",
              "      <th>Grade PreK 3yrs</th>\n",
              "      <th>Grade PreK 4yrs</th>\n",
              "      <th>Grade K</th>\n",
              "      <th>Grade 1</th>\n",
              "      <th>Grade 2</th>\n",
              "      <th>...</th>\n",
              "      <th>Native Hawaiian or Other Pacific Islander</th>\n",
              "      <th>White</th>\n",
              "      <th>Male</th>\n",
              "      <th>Female</th>\n",
              "      <th>Economically Disadvantaged</th>\n",
              "      <th>Disability</th>\n",
              "      <th>Limited English Proficiency</th>\n",
              "      <th>Latitude</th>\n",
              "      <th>Longitude</th>\n",
              "      <th>Mapped Location</th>\n",
              "    </tr>\n",
              "    <tr>\n",
              "      <th>School ID</th>\n",
              "      <th></th>\n",
              "      <th></th>\n",
              "      <th></th>\n",
              "      <th></th>\n",
              "      <th></th>\n",
              "      <th></th>\n",
              "      <th></th>\n",
              "      <th></th>\n",
              "      <th></th>\n",
              "      <th></th>\n",
              "      <th></th>\n",
              "      <th></th>\n",
              "      <th></th>\n",
              "      <th></th>\n",
              "      <th></th>\n",
              "      <th></th>\n",
              "      <th></th>\n",
              "      <th></th>\n",
              "      <th></th>\n",
              "      <th></th>\n",
              "      <th></th>\n",
              "    </tr>\n",
              "  </thead>\n",
              "  <tbody>\n",
              "    <tr>\n",
              "      <th>496</th>\n",
              "      <td>18-19</td>\n",
              "      <td>Elementary School</td>\n",
              "      <td>A. Z. Kelley Elementary</td>\n",
              "      <td>1</td>\n",
              "      <td>37013</td>\n",
              "      <td>NaN</td>\n",
              "      <td>40.0</td>\n",
              "      <td>153.0</td>\n",
              "      <td>146.0</td>\n",
              "      <td>177.0</td>\n",
              "      <td>...</td>\n",
              "      <td>NaN</td>\n",
              "      <td>218</td>\n",
              "      <td>423</td>\n",
              "      <td>424</td>\n",
              "      <td>300.0</td>\n",
              "      <td>91</td>\n",
              "      <td>301.0</td>\n",
              "      <td>36.021817</td>\n",
              "      <td>-86.658848</td>\n",
              "      <td>(36.02181712, -86.65884778)</td>\n",
              "    </tr>\n",
              "    <tr>\n",
              "      <th>375</th>\n",
              "      <td>18-19</td>\n",
              "      <td>Elementary School</td>\n",
              "      <td>Alex Green Elementary</td>\n",
              "      <td>5</td>\n",
              "      <td>37189</td>\n",
              "      <td>NaN</td>\n",
              "      <td>37.0</td>\n",
              "      <td>53.0</td>\n",
              "      <td>46.0</td>\n",
              "      <td>40.0</td>\n",
              "      <td>...</td>\n",
              "      <td>NaN</td>\n",
              "      <td>15</td>\n",
              "      <td>123</td>\n",
              "      <td>143</td>\n",
              "      <td>183.0</td>\n",
              "      <td>19</td>\n",
              "      <td>25.0</td>\n",
              "      <td>36.252961</td>\n",
              "      <td>-86.832229</td>\n",
              "      <td>(36.2529607, -86.8322292)</td>\n",
              "    </tr>\n",
              "    <tr>\n",
              "      <th>105</th>\n",
              "      <td>18-19</td>\n",
              "      <td>Elementary School</td>\n",
              "      <td>Amqui Elementary</td>\n",
              "      <td>10</td>\n",
              "      <td>37115</td>\n",
              "      <td>2.0</td>\n",
              "      <td>29.0</td>\n",
              "      <td>91.0</td>\n",
              "      <td>81.0</td>\n",
              "      <td>89.0</td>\n",
              "      <td>...</td>\n",
              "      <td>NaN</td>\n",
              "      <td>73</td>\n",
              "      <td>230</td>\n",
              "      <td>234</td>\n",
              "      <td>244.0</td>\n",
              "      <td>47</td>\n",
              "      <td>122.0</td>\n",
              "      <td>36.273766</td>\n",
              "      <td>-86.703832</td>\n",
              "      <td>(36.27376585, -86.70383153)</td>\n",
              "    </tr>\n",
              "  </tbody>\n",
              "</table>\n",
              "<p>3 rows × 34 columns</p>\n",
              "</div>"
            ],
            "text/plain": [
              "          School Year       School Level              School Name  \\\n",
              "School ID                                                           \n",
              "496             18-19  Elementary School  A. Z. Kelley Elementary   \n",
              "375             18-19  Elementary School    Alex Green Elementary   \n",
              "105             18-19  Elementary School         Amqui Elementary   \n",
              "\n",
              "           State School ID  Zip Code  Grade PreK 3yrs  Grade PreK 4yrs  \\\n",
              "School ID                                                                \n",
              "496                      1     37013              NaN             40.0   \n",
              "375                      5     37189              NaN             37.0   \n",
              "105                     10     37115              2.0             29.0   \n",
              "\n",
              "           Grade K  Grade 1  Grade 2  ...  \\\n",
              "School ID                             ...   \n",
              "496          153.0    146.0    177.0  ...   \n",
              "375           53.0     46.0     40.0  ...   \n",
              "105           91.0     81.0     89.0  ...   \n",
              "\n",
              "           Native Hawaiian or Other Pacific Islander  White  Male  Female  \\\n",
              "School ID                                                                   \n",
              "496                                              NaN    218   423     424   \n",
              "375                                              NaN     15   123     143   \n",
              "105                                              NaN     73   230     234   \n",
              "\n",
              "           Economically Disadvantaged  Disability  \\\n",
              "School ID                                           \n",
              "496                             300.0          91   \n",
              "375                             183.0          19   \n",
              "105                             244.0          47   \n",
              "\n",
              "           Limited English Proficiency   Latitude  Longitude  \\\n",
              "School ID                                                      \n",
              "496                              301.0  36.021817 -86.658848   \n",
              "375                               25.0  36.252961 -86.832229   \n",
              "105                              122.0  36.273766 -86.703832   \n",
              "\n",
              "                       Mapped Location  \n",
              "School ID                               \n",
              "496        (36.02181712, -86.65884778)  \n",
              "375          (36.2529607, -86.8322292)  \n",
              "105        (36.27376585, -86.70383153)  \n",
              "\n",
              "[3 rows x 34 columns]"
            ]
          },
          "execution_count": 36,
          "metadata": {},
          "output_type": "execute_result"
        }
      ],
      "source": [
        "print(schools_df['School Name'])\n",
        "\n",
        "schools_df.head(3)"
      ]
    },
    {
      "cell_type": "markdown",
      "metadata": {},
      "source": [
        "## Vectorized operations\n",
        "\n",
        "Pandas Series and DataFrames support vectorized operations, which means that operations are applied to every item in the Series or DataFrame at once. \n",
        "\n",
        "We can calculate the total number of students in each school by adding the `Male` and `Female` columns together."
      ]
    },
    {
      "cell_type": "code",
      "execution_count": 37,
      "metadata": {},
      "outputs": [
        {
          "name": "stdout",
          "output_type": "stream",
          "text": [
            "School ID\n",
            "496     847\n",
            "375     266\n",
            "105     464\n",
            "460     502\n",
            "110    1956\n",
            "       ... \n",
            "770     532\n",
            "775     424\n",
            "787     652\n",
            "612     960\n",
            "805     738\n",
            "Length: 169, dtype: int64\n"
          ]
        },
        {
          "data": {
            "text/html": [
              "<div>\n",
              "<style scoped>\n",
              "    .dataframe tbody tr th:only-of-type {\n",
              "        vertical-align: middle;\n",
              "    }\n",
              "\n",
              "    .dataframe tbody tr th {\n",
              "        vertical-align: top;\n",
              "    }\n",
              "\n",
              "    .dataframe thead th {\n",
              "        text-align: right;\n",
              "    }\n",
              "</style>\n",
              "<table border=\"1\" class=\"dataframe\">\n",
              "  <thead>\n",
              "    <tr style=\"text-align: right;\">\n",
              "      <th></th>\n",
              "      <th>male</th>\n",
              "      <th>female</th>\n",
              "      <th>total</th>\n",
              "    </tr>\n",
              "    <tr>\n",
              "      <th>School ID</th>\n",
              "      <th></th>\n",
              "      <th></th>\n",
              "      <th></th>\n",
              "    </tr>\n",
              "  </thead>\n",
              "  <tbody>\n",
              "    <tr>\n",
              "      <th>496</th>\n",
              "      <td>423</td>\n",
              "      <td>424</td>\n",
              "      <td>847</td>\n",
              "    </tr>\n",
              "    <tr>\n",
              "      <th>375</th>\n",
              "      <td>123</td>\n",
              "      <td>143</td>\n",
              "      <td>266</td>\n",
              "    </tr>\n",
              "    <tr>\n",
              "      <th>105</th>\n",
              "      <td>230</td>\n",
              "      <td>234</td>\n",
              "      <td>464</td>\n",
              "    </tr>\n",
              "    <tr>\n",
              "      <th>460</th>\n",
              "      <td>252</td>\n",
              "      <td>250</td>\n",
              "      <td>502</td>\n",
              "    </tr>\n",
              "    <tr>\n",
              "      <th>110</th>\n",
              "      <td>1047</td>\n",
              "      <td>909</td>\n",
              "      <td>1956</td>\n",
              "    </tr>\n",
              "    <tr>\n",
              "      <th>...</th>\n",
              "      <td>...</td>\n",
              "      <td>...</td>\n",
              "      <td>...</td>\n",
              "    </tr>\n",
              "    <tr>\n",
              "      <th>770</th>\n",
              "      <td>276</td>\n",
              "      <td>256</td>\n",
              "      <td>532</td>\n",
              "    </tr>\n",
              "    <tr>\n",
              "      <th>775</th>\n",
              "      <td>237</td>\n",
              "      <td>187</td>\n",
              "      <td>424</td>\n",
              "    </tr>\n",
              "    <tr>\n",
              "      <th>787</th>\n",
              "      <td>316</td>\n",
              "      <td>336</td>\n",
              "      <td>652</td>\n",
              "    </tr>\n",
              "    <tr>\n",
              "      <th>612</th>\n",
              "      <td>476</td>\n",
              "      <td>484</td>\n",
              "      <td>960</td>\n",
              "    </tr>\n",
              "    <tr>\n",
              "      <th>805</th>\n",
              "      <td>396</td>\n",
              "      <td>342</td>\n",
              "      <td>738</td>\n",
              "    </tr>\n",
              "  </tbody>\n",
              "</table>\n",
              "<p>169 rows × 3 columns</p>\n",
              "</div>"
            ],
            "text/plain": [
              "           male  female  total\n",
              "School ID                     \n",
              "496         423     424    847\n",
              "375         123     143    266\n",
              "105         230     234    464\n",
              "460         252     250    502\n",
              "110        1047     909   1956\n",
              "...         ...     ...    ...\n",
              "770         276     256    532\n",
              "775         237     187    424\n",
              "787         316     336    652\n",
              "612         476     484    960\n",
              "805         396     342    738\n",
              "\n",
              "[169 rows x 3 columns]"
            ]
          },
          "execution_count": 37,
          "metadata": {},
          "output_type": "execute_result"
        }
      ],
      "source": [
        "total_students = schools_df['Male'] + schools_df['Female']\n",
        "print(total_students)\n",
        "\n",
        "# Create a DataFram to make the answers easier to read.\n",
        "summary_df = pd.DataFrame({'male': schools_df['Male'], 'female': schools_df['Female'], 'total': total_students})\n",
        "summary_df"
      ]
    },
    {
      "cell_type": "markdown",
      "metadata": {},
      "source": [
        "## Practice\n",
        "\n",
        "Calculate the percentage of male students in each school and print the series."
      ]
    },
    {
      "cell_type": "code",
      "execution_count": 39,
      "metadata": {},
      "outputs": [
        {
          "data": {
            "text/plain": [
              "School ID\n",
              "496    49.940968\n",
              "375    46.240602\n",
              "105    49.568966\n",
              "460    50.199203\n",
              "110    53.527607\n",
              "         ...    \n",
              "770    51.879699\n",
              "775    55.896226\n",
              "787    48.466258\n",
              "612    49.583333\n",
              "805    53.658537\n",
              "Length: 169, dtype: float64"
            ]
          },
          "execution_count": 39,
          "metadata": {},
          "output_type": "execute_result"
        }
      ],
      "source": [
        "percent_male = summary_df['male']/summary_df['total']   * 100\n",
        "percent_male"
      ]
    },
    {
      "cell_type": "markdown",
      "metadata": {
        "id": "RnDCdlT-deVL"
      },
      "source": [
        "# Loops\n",
        "\n",
        "## Iterating using `for`\n",
        "\n",
        "Example"
      ]
    },
    {
      "cell_type": "code",
      "execution_count": null,
      "metadata": {
        "id": "1GUi6-pDdeVO"
      },
      "outputs": [],
      "source": [
        "basket = ['apple', 'orange', 'banana', 'lemon', 'lime']\n",
        "for fruit in basket:\n",
        "    print('I ate one ' + fruit)\n",
        "print(\"I'm full now!\")"
      ]
    },
    {
      "cell_type": "code",
      "execution_count": null,
      "metadata": {
        "id": "48MgC-k4deVR"
      },
      "outputs": [],
      "source": [
        "word = 'supercalifragilisticexpialidocious'\n",
        "print('Spell it out!')\n",
        "for letter in word:\n",
        "    print(letter)\n",
        "print('That wore me out.')"
      ]
    },
    {
      "cell_type": "markdown",
      "metadata": {},
      "source": [
        "## Building a sequence with a for loop\n",
        "\n",
        "The pattern of creating an empty thing and then adding a sequence of items to it in a loop is a common one. \n",
        "\n",
        "```\n",
        "sequence = sequence + item\n",
        "```\n",
        "\n",
        "can be replaced with \n",
        "\n",
        "```\n",
        "sequence += item\n",
        "```\n",
        "\n",
        "Code with explicit concatenation:"
      ]
    },
    {
      "cell_type": "code",
      "execution_count": null,
      "metadata": {},
      "outputs": [],
      "source": [
        "list_of_words = ['The ', 'quick ', 'brown ', 'fox ', 'jumps ', 'over ', 'the ', 'lazy ', 'dog ']\n",
        "sentence = ''\n",
        "for word in list_of_words:\n",
        "    sentence = sentence + word # Concatenate the word to the sentence\n",
        "print(sentence + '!')"
      ]
    },
    {
      "cell_type": "markdown",
      "metadata": {},
      "source": [
        "Code with shorthand:\n"
      ]
    },
    {
      "cell_type": "code",
      "execution_count": null,
      "metadata": {},
      "outputs": [],
      "source": [
        "sentence = ''\n",
        "for word in list_of_words:\n",
        "    sentence += word\n",
        "print(sentence + '!')"
      ]
    },
    {
      "cell_type": "markdown",
      "metadata": {},
      "source": [
        "Same strategy, but doing creating a total by summing a list of numbers:\n"
      ]
    },
    {
      "cell_type": "code",
      "execution_count": null,
      "metadata": {},
      "outputs": [],
      "source": [
        "total = 0\n",
        "for number in [3, 5, 7, 9]:\n",
        "    total += number\n",
        "print('The total is', total)"
      ]
    },
    {
      "cell_type": "markdown",
      "metadata": {},
      "source": [
        "Using a `range()` object to create a list from user input:\n"
      ]
    },
    {
      "cell_type": "code",
      "execution_count": null,
      "metadata": {},
      "outputs": [],
      "source": [
        "bird_list = []\n",
        "for i in range(4):\n",
        "    bird = input('Enter a bird name: ')\n",
        "    bird_list.append(bird)\n",
        "print('Your bird list is:', bird_list)"
      ]
    },
    {
      "cell_type": "markdown",
      "metadata": {},
      "source": [
        "# Iterating through rows in a DataFrame\n",
        "\n",
        "One of the main purposes of pandas is to make it possible to perform operations on entire columns using vectorized operations. However, there are some situations where it makes sense to iterate through each row in the DataFrame and deal with values one row at a time. These situations would include complex operations that require multiple lines of code to describe, or actions that must happen sequentially, such as retrieving data from a URL.\n",
        "\n",
        "Our example will use information about websites"
      ]
    },
    {
      "cell_type": "code",
      "execution_count": null,
      "metadata": {
        "id": "JcVCQ1UMdeVd"
      },
      "outputs": [],
      "source": [
        "websites = {\n",
        "    'name': {'alphabet': 'Google', 'vu': 'Vanderbilt', 'fake': 'Obsolete Website'}, \n",
        "    'url': {'alphabet': 'https://www.google.com/', 'vu': 'https://www.vanderbilt.edu/', 'fake': 'https://example.org/fake_url'},\n",
        "    'status': {'alphabet': 'unknown', 'vu': 'unknown', 'fake': 'unknown'}\n",
        "           }\n",
        "websites_df = pd.DataFrame(websites)\n",
        "websites_df"
      ]
    },
    {
      "cell_type": "markdown",
      "metadata": {},
      "source": [
        "To generate an iterable object from the DataFrame we use the `.iterrows()` method. Iterating using a `for` loop generates a tuple consisting of the label index and the data from the row, in the form of a Series."
      ]
    },
    {
      "cell_type": "code",
      "execution_count": null,
      "metadata": {},
      "outputs": [],
      "source": [
        "for label_index, website_series in websites_df.iterrows():\n",
        "    print(label_index)\n",
        "    print()\n",
        "    print(website_series)\n",
        "    print()\n",
        "    print()"
      ]
    },
    {
      "cell_type": "markdown",
      "metadata": {},
      "source": [
        "To access a value from the row Series, we can use direct indexing by providing the column label index."
      ]
    },
    {
      "cell_type": "code",
      "execution_count": null,
      "metadata": {},
      "outputs": [],
      "source": [
        "for label_index, website_series in websites_df.iterrows():\n",
        "    print(website_series['url'])\n",
        "    print()"
      ]
    },
    {
      "cell_type": "markdown",
      "metadata": {},
      "source": [
        "Iterating will allow us to check the status of each website one at a time."
      ]
    },
    {
      "cell_type": "code",
      "execution_count": null,
      "metadata": {},
      "outputs": [],
      "source": [
        "import requests\n",
        "for label_index, website_series in websites_df.iterrows():\n",
        "    response = requests.get(website_series['url'])\n",
        "    # HTTP status code 200 means the website is up, 404 means it's down.\n",
        "    print(label_index, website_series['url'], response.status_code)\n",
        "    # Assign the status to the status column in the DataFrame\n",
        "    websites_df.loc[label_index, 'status'] = response.status_code\n",
        "\n",
        "# Print the updated DataFrame\n",
        "websites_df"
      ]
    },
    {
      "cell_type": "markdown",
      "metadata": {},
      "source": [
        "## Practice\n",
        "\n",
        "Use the .head() method to assign the first 10 rows of the schools DataFrame to a new DataFrame called `schools_subset`. Then iterate through the rows of `schools_subset` and print the `School Name` and `Zip Code` for each row."
      ]
    },
    {
      "cell_type": "code",
      "execution_count": null,
      "metadata": {},
      "outputs": [],
      "source": []
    }
  ],
  "metadata": {
    "colab": {
      "provenance": []
    },
    "kernelspec": {
      "display_name": "Python 3",
      "language": "python",
      "name": "python3"
    },
    "language_info": {
      "codemirror_mode": {
        "name": "ipython",
        "version": 3
      },
      "file_extension": ".py",
      "mimetype": "text/x-python",
      "name": "python",
      "nbconvert_exporter": "python",
      "pygments_lexer": "ipython3",
      "version": "3.12.2"
    }
  },
  "nbformat": 4,
  "nbformat_minor": 0
}
